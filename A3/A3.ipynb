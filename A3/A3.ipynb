{
 "cells": [
  {
   "cell_type": "markdown",
   "id": "85e442cc",
   "metadata": {},
   "source": [
    "# Assignment 3: Text processing with LSTM in PyTorch\n",
    "\n",
    "*Author:* Thomas Adler\n",
    "\n",
    "*Copyright statement:* This  material,  no  matter  whether  in  printed  or  electronic  form,  may  be  used  for  personal  and non-commercial educational use only.  Any reproduction of this manuscript, no matter whether as a whole or in parts, no matter whether in printed or in electronic form, requires explicit prior acceptance of the authors.\n",
    "\n",
    "In this assignment you will a train an LSTM to generate text. To be able to feed text into (recurrent) neural networks we first have to choose a good representation. There are several options to do so ranging from simple character embeddings to more sophisticated approaches like [word embeddings](https://towardsdatascience.com/introduction-to-word-embedding-and-word2vec-652d0c2060fa) or [token embeddings](https://medium.com/@_init_/why-bert-has-3-embedding-layers-and-their-implementation-details-9c261108e28a). We will use a character embedding in this assignment. \n",
    "\n",
    "Character embeddings work as follows. First we define an alphabet, a set of characters that we want to be able to represent. To feed a character into our network we use a one-hot vector. The dimension of this vector is equal to the size of our alphabet and the \"hot\" position indicates the character we want to represent. While this is logically a decent representation (all characters have the same norm, are orthogonal to one another, etc.) it is inefficient in terms of memory because we have to store a lot of zeros. In the first layer of our network we will multiply our one-hot vector with a weight matrix, i.e. we compute the preactivation by a matrix-vector product of the form $We_i$, where $e_i$ is the $i$-th canonical basis vector. This operation corresponds to selecting the $i$-th column of $W$. So an efficient implementation is to perform a simple lookup operation in $W$. This is how embedding layers work also for word or token embeddings. They are learnable lookup tables. \n",
    "\n",
    "## Exercise 1: Encoding characters\n",
    "\n",
    "Write a class `Encoder` that implements the methods `__init__` and `__call__`. The method `__init__` takes a string as argument that serves as alphabet. The method `__call__` takes one argument. If it is a string then it should return a sequence of integers as `torch.Tensor` of shape  representing the input string. Each integer should represent a character of the alphabet. The alphabet consists of the characters matched by the regex `[a-z0-9 .!?]`. If the input text contains characters that are not in the alphabet, then `__call__` should either remove them or map them to a corresponding character that belongs to the alphabet. If the argument is a `torch.Tensor`, then the method should return a string representation of the input, i.e. it should function as decoder. "
   ]
  },
  {
   "cell_type": "code",
   "execution_count": 1,
   "id": "17f16ae5",
   "metadata": {},
   "outputs": [
    {
     "name": "stdout",
     "output_type": "stream",
     "text": [
      "tensor([32, 33, 31, 22, 27, 20, 33, 18, 27, 32, 28, 31], dtype=torch.int32)\n",
      "stringtensor\n",
      "40\n"
     ]
    }
   ],
   "source": [
    "import re\n",
    "import torch\n",
    "\n",
    "########## YOUR SOLUTION HERE ##########\n",
    "\n",
    "class Encoder:\n",
    "    \n",
    "    def __init__(self,alphabet_string:str):\n",
    "        self.alphabet_list=list(set(alphabet_string.lower()))\n",
    "        self.alphabet_list.sort()\n",
    "        pattern = re.compile(fr\"[a-z0-9 .!?]\")\n",
    "        \n",
    "        self.invalid_chars = [_ for _ in self.alphabet_list if not pattern.match(_)] #set of invalid characters\n",
    "        self.alphabet_list = [_ for _ in self.alphabet_list if pattern.match(_)] #set of valid \n",
    "        \n",
    "        self.alphabet_size = len(self.alphabet_list)\n",
    "     \n",
    "        self.alphabet = {char:char_idx for char_idx,char in enumerate(self.alphabet_list)}\n",
    "    \n",
    "    def alphabet_size(self):\n",
    "        return len([_ for _ in self.alphabet_list if pattern.match(_)])\n",
    "    \n",
    "    def __call__(self,arg):\n",
    "        if type(arg)==torch.Tensor:\n",
    "            return ''.join([self.alphabet_list[int(_.item())] for _ in torch.squeeze(arg)])\n",
    "        elif type(arg)==str:\n",
    "            return torch.Tensor([self.alphabet[_] for _ in arg if _ not in self.invalid_chars ]).int()\n",
    "\n",
    "        \n",
    "encoder = Encoder(\"abcdefghijklmnopqrstuvwxyz0123456789.!?'$% \")\n",
    "tensor_ = encoder(\"stringt'en'sor\")\n",
    "string_tensor = encoder(encoder(\"stringt'en'sor\"))\n",
    "\n",
    "print(tensor_)\n",
    "print(string_tensor)\n",
    "print(encoder.alphabet_size)"
   ]
  },
  {
   "cell_type": "markdown",
   "id": "3a819873",
   "metadata": {},
   "source": [
    "## Exercise 2: Pytorch Dataset\n",
    "\n",
    "Write a class `TextDataset` that derives from `torch.utlis.data.Dataset`. It should wrap a text file and utilize it for training with pytorch. Implement the methods `__init__`, `__len__`, `__getitem__`. The method `__init__` should take a path to a text file as string and an integer `l` specifying the length of one sample sequence. The method `__len__` takes no arguments and should return the size of the dataset, i.e. the number of sample sequences in the dataset. The method `__getitem__` should take an integer indexing a sample sequence and should return that sequence as a `torch.Tensor`. The input file can be viewed as one long sequence. The first sample sequence consists of the characters at positions `0..l-1` in the input file. The second sequence consists of the characters at positions `l..2*l-1` and so on. That is, the samples of our dataset are non-overlapping sequences. The last incomplete sequence may be dropped. "
   ]
  },
  {
   "cell_type": "code",
   "execution_count": 2,
   "id": "9df917ce",
   "metadata": {},
   "outputs": [
    {
     "name": "stdout",
     "output_type": "stream",
     "text": [
      "[' ', '!', '.', '0', '1', '2', '3', '4', '5', '6', '7', '8', '9', '?', 'a', 'b', 'c', 'd', 'e', 'f', 'g', 'h', 'i', 'j', 'k', 'l', 'm', 'n', 'o', 'p', 'q', 'r', 's', 't', 'u', 'v', 'w', 'x', 'y', 'z']\n",
      "3319\n",
      "things and the husbands one of the great abusers of the world? give me a break. give me a break.       give me a break. so the last person she wants to run against is me.   now heres the story. look heres the story. its very simple. so i announced  and i w\n",
      "torch.Size([19, 256])\n"
     ]
    }
   ],
   "source": [
    "import torch\n",
    "from torch.utils.data import Dataset\n",
    "import numpy as np\n",
    "import os\n",
    "\n",
    "########## YOUR SOLUTION HERE ##########\n",
    "\n",
    "class TextDataset(torch.utils.data.Dataset):\n",
    "    \n",
    "    def __init__(self,file_path:str,l:int):\n",
    "        \n",
    "        self.l = l\n",
    "        \n",
    "        with open(file_path, encoding=\"utf8\") as text_file:#get file from filepath\n",
    "            self.raw_data = text_file.read().lower()\n",
    "        #read file\n",
    "        \n",
    "        self.raw_data = self.raw_data.replace(\"\\n\",\" \").replace(\"\\r\",\" \")\n",
    "        #linebreaks create whitespaces\n",
    "        \n",
    "        self.encoder = Encoder(self.raw_data)\n",
    "        self.encoded_data = self.encoder(self.raw_data)\n",
    "        #create and apply encoder\n",
    "        \n",
    "        self.encoded_data = torch.narrow(self.encoded_data,0,0,self.encoded_data.shape[0]-(self.encoded_data.shape[0]%l))\n",
    "        #last incomplete sequence is dropped\n",
    "        \n",
    "        self.sequences = torch.reshape(self.encoded_data,(np.floor(self.encoded_data.shape[0]/self.l).astype(int),l))\n",
    "        #break data into sequences\n",
    "    \n",
    "    def __len__(self):\n",
    "        return len(self.sequences) #or something\n",
    "    \n",
    "    def __getitem__(self,sequence_index):\n",
    "        \"\"\"\n",
    "        call __getitem__ like:\n",
    "        TextDataset[get_argument]\n",
    "        \"\"\"\n",
    "        return self.sequences[sequence_index]\n",
    "\n",
    "trump_dataset = TextDataset(r\"trump\\trump_train.txt\",l=256)\n",
    "print(trump_dataset.encoder.alphabet_list)\n",
    "print(len(trump_dataset)) #__len__ method\n",
    "print(trump_dataset.encoder(trump_dataset[668]))\n",
    "\n",
    "print(trump_dataset[123:142].shape)\n"
   ]
  },
  {
   "cell_type": "markdown",
   "id": "42e5724f",
   "metadata": {},
   "source": [
    "## Exercise 3: The Model\n",
    "\n",
    "Write a class `NextCharLSTM` that derives from `torch.nn.Module` and takes `alphabet_size`, the `embedding_dim`, and the `hidden_dim` as arguments. It should consist of a `torch.nn.Embedding` layer that maps the alphabet to embeddings, a `torch.nn.LSTM` that takes the embeddings as inputs and maps them to hidden states, and a `torch.nn.Linear` output layer that maps the hidden states of the LSTM back to the alphabet. Implement the methods `__init__` that sets up the module and `forward` that takes an input sequence and returns the logits (i.e. no activation function on the output layer) of the model prediction at every time step. "
   ]
  },
  {
   "cell_type": "code",
   "execution_count": 3,
   "id": "459fe907",
   "metadata": {},
   "outputs": [
    {
     "name": "stdout",
     "output_type": "stream",
     "text": [
      "torch.Size([256])\n",
      "torch.Size([14, 256, 40])\n"
     ]
    }
   ],
   "source": [
    "import torch.nn as nn\n",
    "import torch.nn.functional as F\n",
    "\n",
    "########## YOUR SOLUTION HERE ##########\n",
    "\n",
    "class NextCharLSTM(torch.nn.Module):\n",
    "\n",
    "    def __init__(self,alphabet_size:int,embedding_dim:int,hidden_dim:int):\n",
    "        \n",
    "        super().__init__()\n",
    "        \n",
    "        self.embedding = nn.Embedding(num_embeddings=alphabet_size,embedding_dim=embedding_dim)\n",
    "        \"\"\"\n",
    "        from the docs:\n",
    "        num_embeddings (int) – size of the dictionary of embeddings\n",
    "        embedding_dim (int) – the size of each embedding vector\n",
    "        --> embedding dim is given as input\n",
    "        \"\"\"\n",
    "        self.lstm = nn.LSTM(input_size=embedding_dim,hidden_size=hidden_dim,num_layers=1,batch_first=True) #just one hidden layer is default\n",
    "        \n",
    "        self.linear = nn.Linear(in_features=hidden_dim,out_features=alphabet_size)\n",
    "        \n",
    "        \n",
    "    \n",
    "    def forward(self,input_sequence):\n",
    "        embedded_sequence=self.embedding(input_sequence)\n",
    "\n",
    "        lstm_out,hn= self.lstm(embedded_sequence)\n",
    "        #<-- activation function here?\n",
    "        logits = self.linear(lstm_out)\n",
    "                \n",
    "        return logits\n",
    "        \n",
    "\n",
    "model = NextCharLSTM(alphabet_size = trump_dataset.encoder.alphabet_size,\n",
    "                            embedding_dim = trump_dataset.encoder.alphabet_size,\n",
    "                            hidden_dim = 25 #arbitrary\n",
    "                           )\n",
    "print(trump_dataset[786].shape)\n",
    "out = model.forward(trump_dataset[786:800])\n",
    "print(out.shape)"
   ]
  },
  {
   "cell_type": "markdown",
   "id": "bd7cb10d",
   "metadata": {},
   "source": [
    "## Exercise 4: Training/Validation Epoch\n",
    "\n",
    "Write a function `epoch` that takes a `torch.utils.data.DataLoader`, a `NextCharLSTM`, and a `torch.optim.Optimizer` as arguments, where the last one might be `None`. If the optimizer is `None`, then the function should validate the model. Otherwise it should train the model for next-character prediction in the many-to-many setting. That is, given a sequence `x` of length `l`, the input sequence is `x[:l-1]` and the corresponding target sequence is `x[1:]`. The function should perform one epoch of training/validation and return the loss values of each mini batch as a numpy array. Use the cross-entropy loss function for both training and validation. "
   ]
  },
  {
   "cell_type": "code",
   "execution_count": 4,
   "id": "13f33250",
   "metadata": {},
   "outputs": [],
   "source": [
    "from torch.utils.data import DataLoader\n",
    "import numpy as np\n",
    "\n",
    "########## YOUR SOLUTION HERE ##########\n",
    "\n",
    "def get_input_and_label(batch):\n",
    "    x = batch[:,:-1]\n",
    "    y = batch[:,1:]\n",
    "    return x,y\n",
    "\n",
    "def epoch(dataloader:DataLoader,model:NextCharLSTM,optimizer:torch.optim.Optimizer=None):\n",
    "    \n",
    "    loss_seq = []\n",
    "    loss_fn = nn.CrossEntropyLoss()\n",
    "    \n",
    "    if optimizer is None:\n",
    "        for batch_idx,batch in enumerate(dataloader):\n",
    "        \n",
    "            x_batch,y_batch =get_input_and_label(batch)\n",
    "\n",
    "            pred = model.forward(x_batch)        \n",
    "            loss = loss_fn(pred.swapaxes(2,1),y_batch.long())\n",
    "\n",
    "            loss_seq.append(loss.item())\n",
    "\n",
    "            return np.average(loss_seq)\n",
    "    \n",
    "    for batch_idx,batch in enumerate(dataloader):\n",
    "        progress_percent = np.floor((batch_idx/len(dataloader))*100).astype(int)\n",
    "        if progress_percent%10==0:\n",
    "            print(f\"\\tProgress: {progress_percent}%\")\n",
    "        \n",
    "        x_batch,y_batch =get_input_and_label(batch)\n",
    "\n",
    "        optimizer.zero_grad()\n",
    "        pred = model.forward(x_batch)\n",
    "        \n",
    "        loss = loss_fn(pred.swapaxes(2,1),y_batch.long())\n",
    "        loss.backward()\n",
    "        \n",
    "        optimizer.step()\n",
    "        \n",
    "        loss_seq.append(loss.item())\n",
    "        \n",
    "        \n",
    "    return np.array(loss_seq)\n"
   ]
  },
  {
   "cell_type": "markdown",
   "id": "a3cb856c",
   "metadata": {},
   "source": [
    "## Exercise 5: Model Selection\n",
    "\n",
    "Usually, we would now train and validate our model with different hyperparameters to see which setting performs best. However, this pretty expensive in terms of compute so we will provide you with a setting that should work quite well. Train your model for 30 epochs using `torch.optim.Adam`. Validate your model after every epoch and persist the model that performs best on the validation set using `torch.save`. Visualize and discuss the training and validation progress. "
   ]
  },
  {
   "cell_type": "code",
   "execution_count": 5,
   "id": "8987ae83",
   "metadata": {},
   "outputs": [
    {
     "name": "stdout",
     "output_type": "stream",
     "text": [
      "Epoch number 0 of 30\n",
      "\tProgress: 0%\n",
      "\tProgress: 20%\n",
      "\tProgress: 50%\n",
      "\tProgress: 70%\n",
      "Epoch number 1 of 30\n",
      "\tProgress: 0%\n",
      "\tProgress: 20%\n",
      "\tProgress: 50%\n",
      "\tProgress: 70%\n",
      "Epoch number 2 of 30\n",
      "\tProgress: 0%\n",
      "\tProgress: 20%\n",
      "\tProgress: 50%\n",
      "\tProgress: 70%\n",
      "Epoch number 3 of 30\n",
      "\tProgress: 0%\n",
      "\tProgress: 20%\n",
      "\tProgress: 50%\n",
      "\tProgress: 70%\n",
      "Epoch number 4 of 30\n",
      "\tProgress: 0%\n",
      "\tProgress: 20%\n",
      "\tProgress: 50%\n",
      "\tProgress: 70%\n",
      "Epoch number 5 of 30\n",
      "\tProgress: 0%\n",
      "\tProgress: 20%\n",
      "\tProgress: 50%\n",
      "\tProgress: 70%\n",
      "Epoch number 6 of 30\n",
      "\tProgress: 0%\n",
      "\tProgress: 20%\n",
      "\tProgress: 50%\n",
      "\tProgress: 70%\n",
      "Epoch number 7 of 30\n",
      "\tProgress: 0%\n",
      "\tProgress: 20%\n",
      "\tProgress: 50%\n",
      "\tProgress: 70%\n",
      "Epoch number 8 of 30\n",
      "\tProgress: 0%\n",
      "\tProgress: 20%\n",
      "\tProgress: 50%\n",
      "\tProgress: 70%\n",
      "Epoch number 9 of 30\n",
      "\tProgress: 0%\n",
      "\tProgress: 20%\n",
      "\tProgress: 50%\n",
      "\tProgress: 70%\n",
      "Epoch number 10 of 30\n",
      "\tProgress: 0%\n",
      "\tProgress: 20%\n",
      "\tProgress: 50%\n",
      "\tProgress: 70%\n",
      "Epoch number 11 of 30\n",
      "\tProgress: 0%\n",
      "\tProgress: 20%\n",
      "\tProgress: 50%\n",
      "\tProgress: 70%\n",
      "Epoch number 12 of 30\n",
      "\tProgress: 0%\n",
      "\tProgress: 20%\n",
      "\tProgress: 50%\n",
      "\tProgress: 70%\n",
      "Epoch number 13 of 30\n",
      "\tProgress: 0%\n",
      "\tProgress: 20%\n",
      "\tProgress: 50%\n",
      "\tProgress: 70%\n",
      "Epoch number 14 of 30\n",
      "\tProgress: 0%\n",
      "\tProgress: 20%\n",
      "\tProgress: 50%\n",
      "\tProgress: 70%\n",
      "Epoch number 15 of 30\n",
      "\tProgress: 0%\n",
      "\tProgress: 20%\n",
      "\tProgress: 50%\n",
      "\tProgress: 70%\n",
      "Epoch number 16 of 30\n",
      "\tProgress: 0%\n",
      "\tProgress: 20%\n",
      "\tProgress: 50%\n",
      "\tProgress: 70%\n",
      "Epoch number 17 of 30\n",
      "\tProgress: 0%\n",
      "\tProgress: 20%\n",
      "\tProgress: 50%\n",
      "\tProgress: 70%\n",
      "Epoch number 18 of 30\n",
      "\tProgress: 0%\n",
      "\tProgress: 20%\n",
      "\tProgress: 50%\n",
      "\tProgress: 70%\n",
      "Epoch number 19 of 30\n",
      "\tProgress: 0%\n",
      "\tProgress: 20%\n",
      "\tProgress: 50%\n",
      "\tProgress: 70%\n",
      "Epoch number 20 of 30\n",
      "\tProgress: 0%\n",
      "\tProgress: 20%\n",
      "\tProgress: 50%\n",
      "\tProgress: 70%\n",
      "Epoch number 21 of 30\n",
      "\tProgress: 0%\n",
      "\tProgress: 20%\n",
      "\tProgress: 50%\n",
      "\tProgress: 70%\n",
      "Epoch number 22 of 30\n",
      "\tProgress: 0%\n",
      "\tProgress: 20%\n",
      "\tProgress: 50%\n",
      "\tProgress: 70%\n",
      "Epoch number 23 of 30\n",
      "\tProgress: 0%\n",
      "\tProgress: 20%\n",
      "\tProgress: 50%\n",
      "\tProgress: 70%\n",
      "Epoch number 24 of 30\n",
      "\tProgress: 0%\n",
      "\tProgress: 20%\n",
      "\tProgress: 50%\n",
      "\tProgress: 70%\n",
      "Epoch number 25 of 30\n",
      "\tProgress: 0%\n",
      "\tProgress: 20%\n",
      "\tProgress: 50%\n",
      "\tProgress: 70%\n",
      "Epoch number 26 of 30\n",
      "\tProgress: 0%\n",
      "\tProgress: 20%\n",
      "\tProgress: 50%\n",
      "\tProgress: 70%\n",
      "Epoch number 27 of 30\n",
      "\tProgress: 0%\n",
      "\tProgress: 20%\n",
      "\tProgress: 50%\n",
      "\tProgress: 70%\n",
      "Epoch number 28 of 30\n",
      "\tProgress: 0%\n",
      "\tProgress: 20%\n",
      "\tProgress: 50%\n",
      "\tProgress: 70%\n",
      "Epoch number 29 of 30\n",
      "\tProgress: 0%\n",
      "\tProgress: 20%\n",
      "\tProgress: 50%\n",
      "\tProgress: 70%\n"
     ]
    }
   ],
   "source": [
    "import matplotlib.pyplot as plt\n",
    "\n",
    "sequence_length = 100\n",
    "batch_size = 256\n",
    "embedding_dim = 8\n",
    "hidden_dim = 512\n",
    "learning_rate = 1e-3\n",
    "num_epochs = 30\n",
    "\n",
    "########## YOUR SOLUTION HERE ##########\n",
    "\n",
    "\n",
    "train_data = TextDataset(r\"trump\\trump_train.txt\",l=100)\n",
    "valid_data = TextDataset(r\"trump\\trump_val.txt\",l=100)\n",
    "\n",
    "\n",
    "model = NextCharLSTM(alphabet_size = train_data.encoder.alphabet_size,\n",
    "                            embedding_dim = embedding_dim,\n",
    "                            hidden_dim = hidden_dim\n",
    "                           )\n",
    "\n",
    "\n",
    "dataloader = DataLoader(train_data,batch_size=256,shuffle=True)\n",
    "val_dataloader = DataLoader(valid_data,batch_size=256)\n",
    "optimizer = torch.optim.Adam(model.parameters(),lr=learning_rate)\n",
    "\n",
    "loss_array,val_array = np.array([]),np.array([])\n",
    "\n",
    "best_model_performance = np.average(epoch(val_dataloader,model)) #initial validation\n",
    "for _ in range(num_epochs):\n",
    "    print(f\"Epoch number {_+1} of {num_epochs}\")\n",
    "    loss_array = np.append(loss_array,np.average(epoch(dataloader,model,optimizer)))\n",
    "    val_array = np.append(val_array,np.average(epoch(val_dataloader,model)))\n",
    "    if np.average(epoch(val_dataloader,model)) > best_model_performance:\n",
    "        torch.save(model,\"best_model\")\n",
    "    \n",
    "\n"
   ]
  },
  {
   "cell_type": "code",
   "execution_count": 105,
   "id": "8514a97e",
   "metadata": {},
   "outputs": [
    {
     "data": {
      "image/png": "[encoded data removed]",
      "text/plain": [
       "<Figure size 432x288 with 1 Axes>"
      ]
     },
     "metadata": {
      "needs_background": "light"
     },
     "output_type": "display_data"
    }
   ],
   "source": [
    "plt.plot(loss_array.flatten(),label=\"Training Data\")\n",
    "plt.plot(val_array.flatten(),label=\"Validation Data\")\n",
    "plt.xlabel(\"Epoch\")\n",
    "plt.ylabel(\"Loss\")\n",
    "plt.legend()\n",
    "plt.show()"
   ]
  },
  {
   "cell_type": "markdown",
   "id": "62c68d0c",
   "metadata": {},
   "source": [
    "## Exercise 6: Top-$k$ Accuracy\n",
    "\n",
    "Write a function `topk_accuracy` that takes a list of integers $k$, a model, and a data loader and returns the top-$k$ accuracy of the model on the given data set for each $k$. A sample is considered to be classified correctly if the true label appears in the top-$k$ classes predicted by the model. Then load the best model from the previous exercise using `torch.load` and plot its top-$k$ accuracy as a function of $k$ for all possible values of $k$. Discuss the results. "
   ]
  },
  {
   "cell_type": "code",
   "execution_count": 106,
   "id": "fe1f70cf",
   "metadata": {},
   "outputs": [
    {
     "data": {
      "image/png": "[encoded data removed]",
      "text/plain": [
       "<Figure size 432x288 with 1 Axes>"
      ]
     },
     "metadata": {
      "needs_background": "light"
     },
     "output_type": "display_data"
    }
   ],
   "source": [
    "########## YOUR SOLUTION HERE ##########\n",
    "\n",
    "def topk_accuracy(k_list:list,model:NextCharLSTM,dataloader:DataLoader):\n",
    "    \n",
    "    topk_accuracy_dict = {k:[] for k in k_list}\n",
    "    for batch_idx,batch in enumerate(dataloader):\n",
    "\n",
    "        x_batch,y_batch =get_input_and_label(batch)\n",
    "\n",
    "        pred = model.forward(x_batch)        \n",
    "        \n",
    "        for k,k_accuracies in topk_accuracy_dict.items():\n",
    "            pred_topk = torch.topk(pred,k,dim=2,sorted=True)\n",
    "            topk_acc = torch.any(pred_topk.indices == y_batch.unsqueeze(2),dim=2)\n",
    "            topk_acc_sequence_mean = torch.mean(topk_acc.type(torch.float),dim=1) #mean accuracies of the individual sequences\n",
    "            topk_acc_batch_mean = torch.mean(topk_acc_sequence_mean) #mean over the whole batch\n",
    "            \n",
    "            k_accuracies.append(topk_acc_batch_mean)\n",
    "        \n",
    "    for k,k_accuracies in topk_accuracy_dict.items():\n",
    "        topk_accuracy_dict[k]=np.mean(topk_accuracy_dict[k]) #mean over all batches\n",
    "        \n",
    "    return topk_accuracy_dict\n",
    "\n",
    "loaded_model = torch.load(\"best_model\")\n",
    "\n",
    "topk_out = topk_accuracy(list(range(1,41)),loaded_model,val_dataloader)\n",
    "\n",
    "plt.plot(topk_out.values())\n",
    "plt.xlabel(\"k\")\n",
    "plt.ylabel(\"Top-k Accuracy\")\n",
    "plt.show()"
   ]
  },
  {
   "cell_type": "markdown",
   "id": "2db6fadd",
   "metadata": {},
   "source": [
    "The Top-k Accuracy of the best model increases with k. This makes intuitive sense. If k is equal to one, the Top-k accuracy is the percentage of correct first guesses. If k is equal to the size of the alphabet, every guess is right because the correct character is always in the top-k guesses.\n",
    "\n",
    "The graph also shows that the correct letter is likely within the top-10 letters predicted by the model."
   ]
  },
  {
   "cell_type": "markdown",
   "id": "65fc1f27",
   "metadata": {},
   "source": [
    "## Exercise 7: Deterministic Text Generation\n",
    "\n",
    "In this exercise we utilize the trained network to generate novel text. To do this, take some seed text, which can be chosen by the user, and feed it to the network. Subsequently, extrapolate new text by always appending the top-1 character according to the model prediction to the input sequence. Discuss the quality of your model as a text generator. "
   ]
  },
  {
   "cell_type": "code",
   "execution_count": 30,
   "id": "1ce3ca64",
   "metadata": {},
   "outputs": [
    {
     "name": "stdout",
     "output_type": "stream",
     "text": [
      "last year they want to be a lot of the people and they said what happened is a great guy in the world and they want to be so many of the world and they want to be so many of the world and they want to be so many of \n"
     ]
    }
   ],
   "source": [
    "########## YOUR SOLUTION HERE ##########\n",
    "def determ_pred(input_str:str,pred_len:int):\n",
    "    prediction = encoder(input_str)[None,:]\n",
    "    for _ in range(pred_len):\n",
    "        iter_prediction = model.forward(prediction)\n",
    "        iter_prediction_idx = torch.max(iter_prediction,dim=2).indices\n",
    "        \n",
    "        prediction = torch.cat((prediction,iter_prediction_idx[:,-1].unsqueeze(0)),dim=1)\n",
    "    \n",
    "    return prediction\n",
    "\n",
    "output = determ_pred(\"last year they \",200)\n",
    "print(encoder(output))"
   ]
  },
  {
   "cell_type": "markdown",
   "id": "1cfca9e2",
   "metadata": {},
   "source": [
    "## Exercise 8: Probabilistic Text Generation\n",
    "\n",
    "Utilize your trained model as text generator as in the previous exercise but with one difference. Instead of always choosing the top-1 character make a probabilistic choice. The network prediction constitutes a probability distribution over the alphabet. Choose the next character by sampling from this distribution. Compare the results to those of the previous exercise and discuss the observed differences. "
   ]
  },
  {
   "cell_type": "code",
   "execution_count": 107,
   "id": "ac5d1a15",
   "metadata": {},
   "outputs": [
    {
     "name": "stdout",
     "output_type": "stream",
     "text": [
      "joe bidention and i mean we get it country. we have a country and i got sowed fulkers of them to 2o. then she doesnt speige. were going to bi essutresse. you know io lobd at the tas  he say what? ireabad off a\n"
     ]
    }
   ],
   "source": [
    "from torch.distributions import Categorical\n",
    "\n",
    "########## YOUR SOLUTION HERE ##########\n",
    "\n",
    "\n",
    "def prob_pred(input_str:str,pred_len:int):\n",
    "    prediction = encoder(input_str)[None,:]\n",
    "    for _ in range(pred_len):\n",
    "        iter_prediction = model.forward(prediction)\n",
    "        prob_distribution = Categorical(logits=iter_prediction[:,-1].unsqueeze(0))\n",
    "        sample = prob_distribution.sample()[0][:1]\n",
    "                \n",
    "        prediction = torch.cat((prediction,sample.unsqueeze(0)),dim=1)\n",
    "    \n",
    "    return prediction\n",
    "\n",
    "output = prob_pred(\"joe biden\",200)\n",
    "print(encoder(output))"
   ]
  },
  {
   "cell_type": "markdown",
   "id": "0166f488",
   "metadata": {},
   "source": [
    "## Exercise 9: Visualize Neurons\n",
    "\n",
    "Visualize the value of the 512 neurons while the trained model processes some user-defined text. Take a look at the last figure of [this blog](https://openai.com/blog/unsupervised-sentiment-neuron/) (which is also a good read) to get an idea of how to do the visualization. You can install and use the package `colorama` for that. Can you figure out certain repsonsibilities of certain neurons?"
   ]
  },
  {
   "cell_type": "code",
   "execution_count": 10,
   "id": "9a979acd",
   "metadata": {},
   "outputs": [],
   "source": [
    "# provides readable names for ANSI escape sequences\n",
    "from colorama import Fore, Back, Style\n",
    "\n",
    "########## YOUR SOLUTION HERE ##########"
   ]
  },
  {
   "cell_type": "markdown",
   "id": "0ab14725",
   "metadata": {},
   "source": [
    "## Bonus Exercise (3 Points):\n",
    "\n",
    "Adapt your code from the previous exercises such that the model runs in the many-to-one setting, i.e., it should read `l-1` characters of a sample sequence and predict the `l`-th character. Train/validate the model in the many-to-one setting and compare it to the many-to-many setting in terms of top-$k$ accuracy on the validation set and probabilistic text generation. Visualize your results. What are the pros and cons? "
   ]
  },
  {
   "cell_type": "code",
   "execution_count": 11,
   "id": "78195916",
   "metadata": {},
   "outputs": [],
   "source": [
    "########## YOUR SOLUTION HERE ##########"
   ]
  }
 ],
 "metadata": {
  "kernelspec": {
   "display_name": "Python 3",
   "language": "python",
   "name": "python3"
  },
  "language_info": {
   "codemirror_mode": {
    "name": "ipython",
    "version": 3
   },
   "file_extension": ".py",
   "mimetype": "text/x-python",
   "name": "python",
   "nbconvert_exporter": "python",
   "pygments_lexer": "ipython3",
   "version": "3.8.8"
  }
 },
 "nbformat": 4,
 "nbformat_minor": 5
}
