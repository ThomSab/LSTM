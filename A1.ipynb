{
 "cells": [
  {
   "cell_type": "markdown",
   "metadata": {},
   "source": [
    "# Assignment 1: The Jordan Network\n",
    "\n",
    "*Author:* Thomas Adler\n",
    "\n",
    "*Copyright statement:* This  material,  no  matter  whether  in  printed  or  electronic  form,  may  be  used  for  personal  and non-commercial educational use only.  Any reproduction of this manuscript, no matter whether as a whole or in parts, no matter whether in printed or in electronic form, requires explicit prior acceptance of the authors.\n",
    "\n",
    "## Exercise 1: Initializing the network\n",
    "Consider the Jordan network (with $f(x) = \\tanh(x) = (e^x - e^{-x})(e^x + e^{-x})^{-1}$ and $\\varphi(x) = \\sigma(x) = (1+e^{-x})^{-1}$ and transposed weight matrices compared to the lecture notes)\n",
    "$$\n",
    "s(t) = W x(t) + R \\hat y(t-1) \\\\\n",
    "a(t) = \\tanh(s(t)) \\\\\n",
    "z(t) = V a(t) \\\\\n",
    "\\hat y(t) = \\sigma(z(t))\n",
    "$$\n",
    "for $t \\in \\mathbb{N}, x(t) \\in \\mathbb{R}^{D}, s(t) \\in \\mathbb{R}^{I}, a(t) \\in \\mathbb{R}^{I}, z(t) \\in \\mathbb{R}^K, \\hat y(t) \\in \\mathbb{R}^K$ and $W, R, V$ are matrices of appropriate sizes and $\\hat y(0) = 0$. \n",
    "\n",
    "Write a function `init` that takes a `model` and integers $D, I, K$ as arguments and stores the matrices $W, R, V$ as members `model.W`, `model.R`, `model.V`, respectively. The matrices should be `numpy` arrays of appropriate sizes and filled with random values that are uniformly distributed between -0.01 and 0.01. "
   ]
  },
  {
   "cell_type": "code",
   "execution_count": 2,
   "metadata": {},
   "outputs": [
    {
     "name": "stdout",
     "output_type": "stream",
     "text": [
      "W:\n",
      " [[-0.00399088 -0.00216915  0.00311664  0.00128196 -0.00384173]\n",
      " [-0.00738732 -0.00549979 -0.00661492  0.00725356 -0.00164437]\n",
      " [-0.00468331  0.00220966 -0.00311014 -0.00336296 -0.00089176]]\n",
      "R:\n",
      " [-0.00999651 -0.00403475 -0.00040842  0.00590663 -0.00773346]\n",
      "V:\n",
      " [[-0.00650846]\n",
      " [ 0.00261202]\n",
      " [ 0.00654857]\n",
      " [-0.00657531]\n",
      " [-0.00049171]]\n"
     ]
    }
   ],
   "source": [
    "%matplotlib inline\n",
    "import numpy as np\n",
    "from scipy.special import expit as sigmoid\n",
    "\n",
    "def tanh(x):\n",
    "    return(1/((np.exp(x)-np.exp(-x))*(np.exp(x)+np.exp(-x))))\n",
    "\n",
    "def sigma(z):\n",
    "    return 1/(1+np.exp(-z))\n",
    "\n",
    "class Obj(object):\n",
    "    pass\n",
    "\n",
    "def init(model, D, I, K): #dunder pls\n",
    "    model.W = np.random.uniform(low=-0.01,high=0.01,size=(D,I))\n",
    "    model.R = np.random.uniform(low=-0.01,high=0.01,size=(I))\n",
    "    model.V = np.random.uniform(low=-0.01,high=0.01,size=(I,K))\n",
    "\n",
    "    t = 5 #any value of t\n",
    "    test_x = np.random.uniform(size=(D))\n",
    "    try:\n",
    "        model.W.T @ test_x\n",
    "        model.R.T*tanh(t)\n",
    "        model.V.T*tanh(t)\n",
    "    except Exception as e:\n",
    "        print(\"Model init fail\")\n",
    "        \n",
    "Obj.init=init\n",
    "\n",
    "T, D, I, K = 10, 3, 5, 1\n",
    "\n",
    "model = Obj()\n",
    "model.init(D, I, K)\n",
    "print(\"W:\\n\",model.W)\n",
    "print(\"R:\\n\",model.R)\n",
    "print(\"V:\\n\",model.V)\n"
   ]
  },
  {
   "cell_type": "markdown",
   "metadata": {},
   "source": [
    "## Exercise 2: Numerical stability of the binary cross-entropy loss function\n",
    "\n",
    "We will use the binary cross-entropy loss function to train our RNN, which is defined as \n",
    "$$\n",
    "L(\\hat y, y) = -y \\log \\hat y - (1-y) \\log (1-\\hat y) \\quad \\text{where} \\quad \\hat y = \\sigma(z) = \\frac{1}{1+e^{-z}}\n",
    "$$\n",
    "is the sigmoid function. Its argument $z$ is called *logit*. For reasons of numerical stability it is better to let the model emit the logit and incorporate the sigmoid function into the loss function. Explain why this is the case and how we can gain numerical stability by combining the two functions into one. *Hint:* Find a numerically stable version of the function $f(z) = \\log(1+e^{z})$ and rewrite $L(z,y)$ in terms of $f(z)$. "
   ]
  },
  {
   "cell_type": "markdown",
   "metadata": {},
   "source": [
    "## ANSWER\n",
    "\n",
    "If the model makes a large error st. z is far below zero, the sigmoid function might put out a float that is small enough to become a numerical zero in the execution of the code. This becomes problematic as the sigmoid output is passed to the loss function where the log of $\\hat y$ becomes $- \\infty$ and thus numerically unstable.\n",
    "We thus integrate the sigmoidal function into the loss function:\n",
    "\n",
    "$$\n",
    "L(z, y) = -y \\log ( \\frac{1}{1+e^{-z}} ) - (1-y) \\log (1-( \\frac{1}{1+e^{-z}} )) \\quad =\n",
    "$$\n",
    "$$\n",
    "= -y\\log(\\frac{1}{1 + e^{-z}}) - (1 - y)\\log(\\frac{e^{-z}}{1 + e^{-z}})\\\\\n",
    "= y  \\log(1 + e^{-z}) + (1 - y)  (-\\log(e^{-z}) + \\log(1 + e^{-z}))\\\\\n",
    "= y  \\log(1 + e^{-z}) + (1 - y)  (z + \\log(1 + e^{-z})\\\\\n",
    "= (1 - y)  z + \\log(1 + e^{-z})\\\\\n",
    "= z - z  y + \\log(1 + e^{-z})\\\\\n",
    "$$\n",
    "\n",
    "If z is negative and large the output of $e^{-z}$ can cause numerical overflow.\n",
    "In order to prevent this we can:\n",
    "\n",
    "$$\n",
    "  z - zy + \\log(1 + e^{-z})\\\\\n",
    "= \\log(e^{z}) - zy + \\log(1 + e^{-z})\\\\\n",
    "= - zy + \\log(1 + e^{z})\\\\\n",
    "$$\n",
    "\n",
    "or:\n",
    "\n",
    "$$\n",
    "= - zy + f(z)\\\\\n",
    "$$\n"
   ]
  },
  {
   "cell_type": "markdown",
   "metadata": {},
   "source": [
    "## Exercise 3: The forward pass\n",
    "Write a function `forward` that takes a `model`, a sequence of input vectors $(x(t))_{t=1}^T$, and a label `y` as arguments. The inputs will be represented as a `numpy` array of shape `(T, D)`. It should execute the behavior of the Jordan network and evaluate the numerically stablilized binary cross-entropy loss at the end of the sequence and return the resulting loss value. Store the sequence of hidden activations $(a(t))_{t=1}^T$ and the sequence of logits $(z(t))_{t=1}^T$ into `model.a` and `model.z`, respectively, using the same representation scheme as for the inputs. "
   ]
  },
  {
   "cell_type": "code",
   "execution_count": 6,
   "metadata": {},
   "outputs": [
    {
     "data": {
      "text/plain": [
       "17.55812082966621"
      ]
     },
     "execution_count": 6,
     "metadata": {},
     "output_type": "execute_result"
    }
   ],
   "source": [
    "def loss_fn(y_hat,y):\n",
    "    return -(y*np.log(y_hat)-(1-y)*np.log(1-y_hat))\n",
    "\n",
    "def forward(self, x, y):\n",
    "    self.a = [np.zeros(I)]\n",
    "    self.z = []\n",
    "    self.y_hat = []\n",
    "    \n",
    "    for t,x_t in enumerate(x):#defining t to start at one but keeping a zero-th a makes this tricky\n",
    "        s = self.W.T@x[t] + self.R.T@self.a[-1]\n",
    "        self.a.append(tanh(s))\n",
    "        self.z.append(self.V.T@self.a[-1]) #a[-1] is now the new a\n",
    "    self.y_hat=list(map(sigma,self.z))\n",
    "    loss_sequence = np.array([ loss_fn(y_hat[0],y) for y_hat in self.y_hat ])\n",
    "\n",
    "    return np.average(loss_sequence)\n",
    "        \n",
    "\n",
    "Obj.forward = forward\n",
    "model.forward(np.random.uniform(-1, 1, (T, D)), 1)"
   ]
  },
  {
   "cell_type": "markdown",
   "metadata": {},
   "source": [
    "## Exercise 4: The computational graph\n",
    "\n",
    "Visualize the functional graph of the Jordan network unfolded in time. The graph should show at least 3 consecutive time steps. Use the package `networkx` in combination with `matplotlib` to draw a directed graph with labelled nodes and edges. If you need help take a look at [this guide](https://networkx.guide/visualization/basics/). Make sure to arrange the nodes in a meaningful way. "
   ]
  },
  {
   "cell_type": "code",
   "execution_count": 27,
   "metadata": {},
   "outputs": [
    {
     "data": {
      "image/png": "[encoded data removed]",
      "text/plain": [
       "<Figure size 432x288 with 1 Axes>"
      ]
     },
     "metadata": {},
     "output_type": "display_data"
    }
   ],
   "source": [
    "import networkx as nx\n",
    "import matplotlib.pyplot as plt\n",
    "\n",
    "G=nx.DiGraph()\n",
    "T = 5\n",
    "\n",
    "positions={}\n",
    "edge_labels={}\n",
    "for _ in range(1,T+1):\n",
    "    G.add_edge(f\"yhat({_-1})\",f\"a({_})\")\n",
    "    positions[f\"a({_})\"]=[_+1,0]\n",
    "    edge_labels[(f\"yhat({_-1})\",f\"a({_})\")]=\"R\"\n",
    "    G.add_edge(f\"x({_})\",f\"a({_})\")\n",
    "    positions[f\"x({_})\"]=[_+1,-1]\n",
    "    edge_labels[(f\"x({_})\",f\"a({_})\")]=\"W\"\n",
    "    G.add_edge(f\"a({_})\",f\"yhat({_})\")\n",
    "    positions[f\"yhat({_-1})\"]=[_,+1]\n",
    "    edge_labels[(f\"a({_})\",f\"yhat({_})\")]=\"V\"\n",
    "              \n",
    "positions[f\"yhat({T})\"]=[_+1,+1]    \n",
    "\n",
    "nx.draw_networkx_edge_labels(G,pos=positions,edge_labels=edge_labels,font_color='blue')\n",
    "\n",
    "nx.draw(G,with_labels=True,pos=positions,node_size=1750,node_color=\"#C1C2D4\",alpha =1,edge_color='k',linewidths=1)\n",
    "plt.show()\n",
    "\n",
    "\n"
   ]
  },
  {
   "cell_type": "markdown",
   "metadata": {},
   "source": [
    "## Exercise 5: Derivative of the loss\n",
    "\n",
    "Calculate the derivative of the binary cross-entropy loss function $L(z, y)$ with respect to the logit $z$."
   ]
  },
  {
   "cell_type": "markdown",
   "metadata": {},
   "source": [
    "## ANSWER\n",
    "\n",
    "Binary cross-entropy loss function is\n",
    "$$\n",
    "L(z, y) = - zy + f(z)  \\quad \n",
    "$$\n",
    "So the derivative with respect to the logit z is\n",
    "$$\n",
    "\\frac{\\partial }{\\partial z}L(z,y) = \\frac{\\partial}{\\partial z}\\left [- zy + f(z)  \\right ] =\n",
    "$$\n",
    "$$\n",
    "\\frac{\\partial }{\\partial z} [ \\log(1 + e^{z}) ] - y =\n",
    "$$\n",
    "$$\n",
    "\\frac{e^{z}}{1+e^{z}}-y\n",
    "$$\n"
   ]
  },
  {
   "cell_type": "markdown",
   "metadata": {},
   "source": [
    "## Exercise 6: Gradients with respect to network parameters\n",
    "\n",
    "Compute gradients for the weights of the Jordan network analytically. That is, derive backpropagation through time for the Jordan network. To do this, it is crucial to first find the derivative w.r.t. the network outputs $\\psi^\\top(t) = \\partial L / \\partial z(t)$ and hidden pre-activations $\\delta^\\top(t) = \\partial L / \\partial s(t)$. We use the shorthand notations $L = \\sum_{t=1}^T L(t)$ and $L(t) = L(y(t), \\hat y(t))$ for convenience. We use numerator-layout notation for partial derivatives (like in the lecture notes) which lets us multiply the chain rule from left to right. \n",
    "\n",
    "Compute the gradients $\\psi^\\top(t), \\delta^\\top(t), \\nabla_W L, \\nabla_R L, \\nabla_V L$. *Hint:* Take a look at the  graph from the previous exercise to see the functional dependencies. \n",
    "\n",
    "########## YOUR SOLUTION HERE ##########\n",
    "\n",
    "\n",
    "$\\psi^\\top(t) = \\partial L / \\partial z(t) = \\frac{\\partial L(t)}{\\partial \\hat y(t)} \\frac{\\partial \\hat y(t)}{\\partial z(t)}$ is this the thing I calculated in EX5?\n",
    "is this the e(t) that is described in the exercise slides?\n",
    "\n",
    "### For $\\nabla_V L$\n",
    "\n",
    "$\\frac{\\partial L}{\\partial \\upsilon_{ik}} = \\sum_{t=1}^{T}\\frac{\\partial L(t)}{\\partial \\upsilon_{ik}} = \\sum_{t=1}^{T}\\frac{\\partial L(t)}{\\partial \\hat y(t)}\\frac{\\partial \\hat y(t)}{\\partial z(t)} \\frac{ \\partial  z(t)}{\\partial \\upsilon_{ik}}$\n",
    "\n",
    "and with respect to k:\n",
    "\n",
    "$\\sum_{t=1}^{T}\\frac{\\partial L(t)}{\\partial \\hat y_{k}(t)}\\frac{\\partial \\hat y_{k}(t)}{\\partial z_k(t)} \\frac{ \\partial  z_k(t)}{\\partial \\upsilon_{ik}}\n",
    "$\n",
    "\n",
    "\n",
    "Now because $z(t) = V a(t)$ and thus $z_{k}(t) = \\sum_{i=1}^{I} \\upsilon_{ik}a_{i}(t)$ :\n",
    "\n",
    "$\\frac{ \\partial  z_k(t)}{\\partial \\upsilon_{ik}} =  \n",
    "\\sum_{j=1}^{I} \\frac {\\partial \\upsilon_{jk}a_{j}(t)}{\\partial \\upsilon_{ik}}\n",
    "=a_{i}(t)$\n",
    "\n",
    "Thus:\n",
    "\n",
    "$\\frac{\\partial L}{\\partial \\upsilon_{ik}} = \\sum_{t=1}^{T}\\frac{\\partial L(t)}{\\partial \\hat y_{k}(t)}\\frac{\\partial \\hat y_{k}(t)}{\\partial z_k(t)} a_{i}\n",
    "$\n",
    "\n",
    "If this is applied to the Matrix $V^{I \\times K}$ and $\\psi^\\top(t) = \\partial L / \\partial z(t) = \\frac{\\partial L(t)}{\\partial \\hat y(t)} \\frac{\\partial \\hat y(t)}{\\partial z(t)} = \n",
    "\\begin{bmatrix}\n",
    "\\frac{\\partial L(t)}{\\partial \\hat y_{1}(t)}\\frac{\\partial \\hat y_{1}(t)}{\\partial z_1(t)}\n",
    "\\\\ \n",
    "\\vdots \n",
    "\\\\ \n",
    "\\frac{\\partial L(t)}{\\partial \\hat y_{K}(t)}\\frac{\\partial \\hat y_{K}(t)}{\\partial z_K(t)}\n",
    "\\end{bmatrix}$\n",
    "\n",
    "$\\frac{\\partial L}{\\partial V} = \\nabla_V L = \\sum_{t=1}^{T} \\psi(t) a(t)^{\\top}$\n",
    "\n",
    "\n",
    "### For $\\delta^\\top(t)$\n",
    "\n",
    "The loss that is caused in the future by setting the hidden neurons to a value\n",
    "\n",
    "$\\delta^\\top(t) = \\partial L / \\partial s(t) = \\frac {\\partial L}{\\partial a(t)} \\frac{\\partial a(t)}{\\partial s(t)}$\n",
    "\n",
    "this is because:\n",
    "\n",
    "$a(t) = \\tanh(s(t))$\n",
    "\n",
    "then:\n",
    "\n",
    "$\\partial L / \\partial s(t) = \\left ( \\psi(t) \\frac {\\partial z (t)} {\\partial a(t)} + \\frac{\\partial L}{\\partial s(t+1)}\\frac{\\partial s(t+1)}{\\partial a(t)} \\right )\\frac{\\partial a(t)}{\\partial s(t)}$\n",
    "\n",
    "\n",
    "for similar reasons in the case of the first term $\\psi(t) \\frac {\\partial z (t)} {\\partial a(t)}$ because of $z(t) = V a(t)$. The term that is dependent on t in $s(t)$ propagates through $a(t)$.\n",
    "\n",
    "For the term dependent on $t+1$ it is complicated bc. the outcome of $s(t)$ depends on $s(t-1)$. The derivative therefore has to be calculated recursively for all $t \\in T $ \n",
    "\n",
    "anscheinend $\\frac{\\partial a(t)}{\\partial s(t)} = diag(f{}'(s(t)))$ ?\n",
    "\n",
    "$\\delta(t) = \\left( \\psi(t) V^{\\top} + \\delta(t+1)^{\\top} R^{\\top} \\right ) diag(f{}'(s(t)))$\n",
    "\n",
    "### For R and W\n",
    "\n",
    "\n",
    "$\\frac{\\partial L}{ \\partial r_{ij}} = \\sum_{t=1}^{T} \\frac{\\partial L}{ \\partial r_{ij}(t)}=\\sum_{t=1}^{T} \\frac{\\partial L}{\\partial s(t)}\\frac{\\partial s(t)}{ \\partial r_{ij}(t)}$\n",
    "\n",
    "$= \\sum_{t=1}^{T} \\frac{\\partial L}{\\partial s_j(t)}\\frac{\\partial s_j(t)}{ \\partial r_{ij}(t)}\n",
    "= \\sum_{t=1}^{T} \\delta_{j}(t) a_{i}(t-1)$\n",
    "\n",
    "st.\n",
    "\n",
    "$\\nabla_R L = \\frac{\\partial L}{\\partial R} = \\sum_{t=1}^{T} \\delta(t) a(t-1)$\n",
    "\n",
    "And similar to R:\n",
    "\n",
    "$\\frac{\\partial L}{ \\partial \\omega_{dj}} = \\sum_{t=1}^{T} \\delta_{j}(t)x_{d}(t)$\n",
    "\n",
    "st.\n",
    "\n",
    "$\\nabla_W L = \\frac{\\partial L}{ \\partial W} = \\sum_{t=1}^{T} \\delta(t)x(t)$\n",
    "\n"
   ]
  },
  {
   "cell_type": "markdown",
   "metadata": {},
   "source": [
    "## Exercise 7: The backward pass\n",
    "Write a function `backward` that takes a model `self` as argument. The function should compute the gradients of the loss with respect to all model parameters and store them to `model.dW`, `model.dR`, `model.dV`, respectively. "
   ]
  },
  {
   "cell_type": "code",
   "execution_count": null,
   "metadata": {},
   "outputs": [],
   "source": [
    "def backward(self):\n",
    "    ########## YOUR SOLUTION HERE ##########\n",
    "    self.psi = \n",
    "    self.delta = \n",
    "    \n",
    "    self.dV = \n",
    "    \n",
    "    \n",
    "Obj.backward = backward\n",
    "model.backward()"
   ]
  },
  {
   "cell_type": "markdown",
   "metadata": {},
   "source": [
    "## Exercise 8: Gradient checking\n",
    "Write a function `grad_check` that takes a model `self`, a float `eps` and another float `thresh` as arguments and computes the numerical gradients of the model parameters according to the approximation\n",
    "$$\n",
    "f'(x) \\approx \\frac{f(x + \\varepsilon) - f(x - \\varepsilon)}{2 \\varepsilon}.\n",
    "$$\n",
    "If any of the analytical gradients are farther than `thresh` away from the numerical gradients the function should throw an error. "
   ]
  },
  {
   "cell_type": "code",
   "execution_count": null,
   "metadata": {},
   "outputs": [],
   "source": [
    "def grad_check(self, eps, thresh):\n",
    "    ########## YOUR SOLUTION HERE ##########\n",
    "\n",
    "Obj.grad_check = grad_check\n",
    "model.grad_check(1e-7, 1e-7)"
   ]
  },
  {
   "cell_type": "markdown",
   "metadata": {},
   "source": [
    "## Exercise 9: Parameter update\n",
    "\n",
    "Write a function `update` that takes a `model` and a float argument `eta`, which represents the learning rate. The method should implement the gradient descent update rule $\\theta \\gets \\theta - \\eta \\nabla_{\\theta}L$ for all model parameters $\\theta$."
   ]
  },
  {
   "cell_type": "code",
   "execution_count": null,
   "metadata": {},
   "outputs": [],
   "source": [
    "def update(self, eta):\n",
    "    ########## YOUR SOLUTION HERE ##########\n",
    "\n",
    "Obj.update = update\n",
    "model.update(0.001)"
   ]
  },
  {
   "cell_type": "markdown",
   "metadata": {},
   "source": [
    "## Exercise 10: Data generation\n",
    "\n",
    "There are two classes, both occurring with probability 0.5. There is one input unit. Only the first sequence element conveys relevant information about the class. Sequence elements at positions $t > 1$ are generated by a Gaussian with mean zero and variance 0.2. The first sequence element is 1.0 (-1.0) for class 1 (2). Target at sequence end is 1.0 (0.0) for class 1 (2)\n",
    "\n",
    "Write a function `generate_data` that takes an integer `T` as argument which represents the sequence length. Seed the `numpy` random generator with the number `0xDEADBEEF`. Implement the Python generator pattern and produce data in the way described above. The input sequences should have shape `(T, 1)` and the target values should have shape `(1,)`."
   ]
  },
  {
   "cell_type": "code",
   "execution_count": null,
   "metadata": {},
   "outputs": [],
   "source": [
    "def generate_data(T):\n",
    "    ########## YOUR SOLUTION HERE ##########\n",
    "\n",
    "data = generate_data(2)"
   ]
  },
  {
   "cell_type": "markdown",
   "metadata": {},
   "source": [
    "## Exercise 11: Network training\n",
    "\n",
    "Train a Jordan network with 32 hidden units. Start with input sequences of length one and tune the leraning rate and the number of update steps. Then increase the sequence length by one and tune the hyperparameters again. What is the maximal sequence length for which the Jordan network can achieve a performance that is better than random? Visualize your results. "
   ]
  },
  {
   "cell_type": "code",
   "execution_count": null,
   "metadata": {},
   "outputs": [],
   "source": [
    "########## YOUR SOLUTION HERE ##########"
   ]
  },
  {
   "cell_type": "code",
   "execution_count": null,
   "metadata": {},
   "outputs": [],
   "source": []
  }
 ],
 "metadata": {
  "kernelspec": {
   "display_name": "Python 3",
   "language": "python",
   "name": "python3"
  },
  "language_info": {
   "codemirror_mode": {
    "name": "ipython",
    "version": 3
   },
   "file_extension": ".py",
   "mimetype": "text/x-python",
   "name": "python",
   "nbconvert_exporter": "python",
   "pygments_lexer": "ipython3",
   "version": "3.8.8"
  }
 },
 "nbformat": 4,
 "nbformat_minor": 4
}
